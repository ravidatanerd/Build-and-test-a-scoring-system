{
 "cells": [
  {
   "cell_type": "code",
   "execution_count": 1,
   "metadata": {
    "collapsed": true
   },
   "outputs": [],
   "source": [
    "import pandas as pd"
   ]
  },
  {
   "cell_type": "code",
   "execution_count": 2,
   "metadata": {
    "collapsed": true
   },
   "outputs": [],
   "source": [
    "final_data = pd.read_csv('part_3_RFM_SCORE_sales_data_with_customer_RFM_score_nov_27_final.csv')"
   ]
  },
  {
   "cell_type": "code",
   "execution_count": 3,
   "metadata": {},
   "outputs": [
    {
     "data": {
      "text/html": [
       "<div>\n",
       "<style>\n",
       "    .dataframe thead tr:only-child th {\n",
       "        text-align: right;\n",
       "    }\n",
       "\n",
       "    .dataframe thead th {\n",
       "        text-align: left;\n",
       "    }\n",
       "\n",
       "    .dataframe tbody tr th {\n",
       "        vertical-align: top;\n",
       "    }\n",
       "</style>\n",
       "<table border=\"1\" class=\"dataframe\">\n",
       "  <thead>\n",
       "    <tr style=\"text-align: right;\">\n",
       "      <th></th>\n",
       "      <th>invoiceno</th>\n",
       "      <th>code</th>\n",
       "      <th>quantity</th>\n",
       "      <th>year</th>\n",
       "      <th>invoicedate</th>\n",
       "      <th>unitprice</th>\n",
       "      <th>sellprice</th>\n",
       "      <th>custid</th>\n",
       "      <th>country</th>\n",
       "      <th>shipper</th>\n",
       "      <th>...</th>\n",
       "      <th>month</th>\n",
       "      <th>count</th>\n",
       "      <th>class</th>\n",
       "      <th>class_type</th>\n",
       "      <th>invent_class</th>\n",
       "      <th>R</th>\n",
       "      <th>F</th>\n",
       "      <th>M</th>\n",
       "      <th>score</th>\n",
       "      <th>category</th>\n",
       "    </tr>\n",
       "  </thead>\n",
       "  <tbody>\n",
       "    <tr>\n",
       "      <th>0</th>\n",
       "      <td>568200</td>\n",
       "      <td>PADS</td>\n",
       "      <td>5</td>\n",
       "      <td>2017</td>\n",
       "      <td>2017-09-25</td>\n",
       "      <td>0.999975</td>\n",
       "      <td>4.999876</td>\n",
       "      <td>16198</td>\n",
       "      <td>United Kingdom</td>\n",
       "      <td>Delivery Truck</td>\n",
       "      <td>...</td>\n",
       "      <td>9</td>\n",
       "      <td>1</td>\n",
       "      <td>C</td>\n",
       "      <td>CZ</td>\n",
       "      <td>red</td>\n",
       "      <td>4</td>\n",
       "      <td>4</td>\n",
       "      <td>4</td>\n",
       "      <td>444</td>\n",
       "      <td>Hibernating</td>\n",
       "    </tr>\n",
       "    <tr>\n",
       "      <th>1</th>\n",
       "      <td>568375</td>\n",
       "      <td>BANK CHARGES</td>\n",
       "      <td>5</td>\n",
       "      <td>2017</td>\n",
       "      <td>2017-09-26</td>\n",
       "      <td>0.999976</td>\n",
       "      <td>4.999883</td>\n",
       "      <td>13405</td>\n",
       "      <td>United Kingdom</td>\n",
       "      <td>UPS Next day Air</td>\n",
       "      <td>...</td>\n",
       "      <td>9</td>\n",
       "      <td>1</td>\n",
       "      <td>C</td>\n",
       "      <td>CZ</td>\n",
       "      <td>red</td>\n",
       "      <td>2</td>\n",
       "      <td>2</td>\n",
       "      <td>2</td>\n",
       "      <td>222</td>\n",
       "      <td>Highvalue</td>\n",
       "    </tr>\n",
       "    <tr>\n",
       "      <th>2</th>\n",
       "      <td>561226</td>\n",
       "      <td>PADS</td>\n",
       "      <td>5</td>\n",
       "      <td>2017</td>\n",
       "      <td>2017-07-26</td>\n",
       "      <td>0.999886</td>\n",
       "      <td>4.999428</td>\n",
       "      <td>15618</td>\n",
       "      <td>United Kingdom</td>\n",
       "      <td>Delivery Truck</td>\n",
       "      <td>...</td>\n",
       "      <td>7</td>\n",
       "      <td>1</td>\n",
       "      <td>C</td>\n",
       "      <td>CZ</td>\n",
       "      <td>red</td>\n",
       "      <td>4</td>\n",
       "      <td>2</td>\n",
       "      <td>4</td>\n",
       "      <td>424</td>\n",
       "      <td>Highvalue</td>\n",
       "    </tr>\n",
       "    <tr>\n",
       "      <th>3</th>\n",
       "      <td>2550193</td>\n",
       "      <td>PADS</td>\n",
       "      <td>7</td>\n",
       "      <td>2018</td>\n",
       "      <td>2018-06-08</td>\n",
       "      <td>0.999962</td>\n",
       "      <td>6.999731</td>\n",
       "      <td>13952</td>\n",
       "      <td>United Kingdom</td>\n",
       "      <td>UPS ground 2nd day</td>\n",
       "      <td>...</td>\n",
       "      <td>6</td>\n",
       "      <td>1</td>\n",
       "      <td>C</td>\n",
       "      <td>CZ</td>\n",
       "      <td>red</td>\n",
       "      <td>2</td>\n",
       "      <td>2</td>\n",
       "      <td>1</td>\n",
       "      <td>221</td>\n",
       "      <td>Highvalue</td>\n",
       "    </tr>\n",
       "    <tr>\n",
       "      <th>4</th>\n",
       "      <td>550193</td>\n",
       "      <td>PADS</td>\n",
       "      <td>5</td>\n",
       "      <td>2017</td>\n",
       "      <td>2017-04-15</td>\n",
       "      <td>0.999988</td>\n",
       "      <td>4.999940</td>\n",
       "      <td>13952</td>\n",
       "      <td>United Kingdom</td>\n",
       "      <td>UPS ground 2nd day</td>\n",
       "      <td>...</td>\n",
       "      <td>4</td>\n",
       "      <td>1</td>\n",
       "      <td>C</td>\n",
       "      <td>CZ</td>\n",
       "      <td>red</td>\n",
       "      <td>2</td>\n",
       "      <td>2</td>\n",
       "      <td>1</td>\n",
       "      <td>221</td>\n",
       "      <td>Highvalue</td>\n",
       "    </tr>\n",
       "  </tbody>\n",
       "</table>\n",
       "<p>5 rows × 27 columns</p>\n",
       "</div>"
      ],
      "text/plain": [
       "  invoiceno          code  quantity  year invoicedate  unitprice  sellprice  \\\n",
       "0    568200          PADS         5  2017  2017-09-25   0.999975   4.999876   \n",
       "1    568375  BANK CHARGES         5  2017  2017-09-26   0.999976   4.999883   \n",
       "2    561226          PADS         5  2017  2017-07-26   0.999886   4.999428   \n",
       "3   2550193          PADS         7  2018  2018-06-08   0.999962   6.999731   \n",
       "4    550193          PADS         5  2017  2017-04-15   0.999988   4.999940   \n",
       "\n",
       "   custid         country             shipper     ...       month  count  \\\n",
       "0   16198  United Kingdom      Delivery Truck     ...           9      1   \n",
       "1   13405  United Kingdom    UPS Next day Air     ...           9      1   \n",
       "2   15618  United Kingdom      Delivery Truck     ...           7      1   \n",
       "3   13952  United Kingdom  UPS ground 2nd day     ...           6      1   \n",
       "4   13952  United Kingdom  UPS ground 2nd day     ...           4      1   \n",
       "\n",
       "  class class_type  invent_class  R  F  M  score     category  \n",
       "0     C         CZ           red  4  4  4    444  Hibernating  \n",
       "1     C         CZ           red  2  2  2    222    Highvalue  \n",
       "2     C         CZ           red  4  2  4    424    Highvalue  \n",
       "3     C         CZ           red  2  2  1    221    Highvalue  \n",
       "4     C         CZ           red  2  2  1    221    Highvalue  \n",
       "\n",
       "[5 rows x 27 columns]"
      ]
     },
     "execution_count": 3,
     "metadata": {},
     "output_type": "execute_result"
    }
   ],
   "source": [
    "final_data.head()"
   ]
  },
  {
   "cell_type": "markdown",
   "metadata": {},
   "source": [
    "\n",
    "## Feature development "
   ]
  },
  {
   "cell_type": "markdown",
   "metadata": {},
   "source": [
    "#### For a customer id: Final  invent_class is the maxmimum frequency a particular invent class was order"
   ]
  },
  {
   "cell_type": "code",
   "execution_count": null,
   "metadata": {
    "collapsed": true
   },
   "outputs": [],
   "source": []
  },
  {
   "cell_type": "markdown",
   "metadata": {},
   "source": [
    "#### Feature 1: Invent_class per customer_id"
   ]
  },
  {
   "cell_type": "code",
   "execution_count": 4,
   "metadata": {
    "collapsed": true
   },
   "outputs": [],
   "source": [
    "t1 = final_data.groupby(['custid','invent_class'],as_index=False).agg({'quantity': lambda x: x.sum()})"
   ]
  },
  {
   "cell_type": "code",
   "execution_count": 5,
   "metadata": {},
   "outputs": [
    {
     "data": {
      "text/html": [
       "<div>\n",
       "<style>\n",
       "    .dataframe thead tr:only-child th {\n",
       "        text-align: right;\n",
       "    }\n",
       "\n",
       "    .dataframe thead th {\n",
       "        text-align: left;\n",
       "    }\n",
       "\n",
       "    .dataframe tbody tr th {\n",
       "        vertical-align: top;\n",
       "    }\n",
       "</style>\n",
       "<table border=\"1\" class=\"dataframe\">\n",
       "  <thead>\n",
       "    <tr style=\"text-align: right;\">\n",
       "      <th></th>\n",
       "      <th>custid</th>\n",
       "      <th>invent_class</th>\n",
       "      <th>quantity</th>\n",
       "    </tr>\n",
       "  </thead>\n",
       "  <tbody>\n",
       "    <tr>\n",
       "      <th>0</th>\n",
       "      <td>12346</td>\n",
       "      <td>green</td>\n",
       "      <td>664240</td>\n",
       "    </tr>\n",
       "    <tr>\n",
       "      <th>1</th>\n",
       "      <td>12347</td>\n",
       "      <td>green</td>\n",
       "      <td>10942</td>\n",
       "    </tr>\n",
       "    <tr>\n",
       "      <th>2</th>\n",
       "      <td>12347</td>\n",
       "      <td>red</td>\n",
       "      <td>3114</td>\n",
       "    </tr>\n",
       "    <tr>\n",
       "      <th>3</th>\n",
       "      <td>12347</td>\n",
       "      <td>yellow</td>\n",
       "      <td>6116</td>\n",
       "    </tr>\n",
       "    <tr>\n",
       "      <th>4</th>\n",
       "      <td>12348</td>\n",
       "      <td>green</td>\n",
       "      <td>16826</td>\n",
       "    </tr>\n",
       "  </tbody>\n",
       "</table>\n",
       "</div>"
      ],
      "text/plain": [
       "   custid invent_class  quantity\n",
       "0   12346        green    664240\n",
       "1   12347        green     10942\n",
       "2   12347          red      3114\n",
       "3   12347       yellow      6116\n",
       "4   12348        green     16826"
      ]
     },
     "execution_count": 5,
     "metadata": {},
     "output_type": "execute_result"
    }
   ],
   "source": [
    "t1.head()"
   ]
  },
  {
   "cell_type": "code",
   "execution_count": 6,
   "metadata": {
    "collapsed": true
   },
   "outputs": [],
   "source": [
    "t2 = t1.groupby('custid',as_index=False).agg({'quantity': lambda x: x.max()})\n",
    "t2.rename(columns={'quantity':'max_quantity'},inplace=True)"
   ]
  },
  {
   "cell_type": "code",
   "execution_count": 7,
   "metadata": {},
   "outputs": [
    {
     "data": {
      "text/html": [
       "<div>\n",
       "<style>\n",
       "    .dataframe thead tr:only-child th {\n",
       "        text-align: right;\n",
       "    }\n",
       "\n",
       "    .dataframe thead th {\n",
       "        text-align: left;\n",
       "    }\n",
       "\n",
       "    .dataframe tbody tr th {\n",
       "        vertical-align: top;\n",
       "    }\n",
       "</style>\n",
       "<table border=\"1\" class=\"dataframe\">\n",
       "  <thead>\n",
       "    <tr style=\"text-align: right;\">\n",
       "      <th></th>\n",
       "      <th>custid</th>\n",
       "      <th>max_quantity</th>\n",
       "    </tr>\n",
       "  </thead>\n",
       "  <tbody>\n",
       "    <tr>\n",
       "      <th>0</th>\n",
       "      <td>12346</td>\n",
       "      <td>664240</td>\n",
       "    </tr>\n",
       "    <tr>\n",
       "      <th>1</th>\n",
       "      <td>12347</td>\n",
       "      <td>10942</td>\n",
       "    </tr>\n",
       "    <tr>\n",
       "      <th>2</th>\n",
       "      <td>12348</td>\n",
       "      <td>16826</td>\n",
       "    </tr>\n",
       "    <tr>\n",
       "      <th>3</th>\n",
       "      <td>12349</td>\n",
       "      <td>490</td>\n",
       "    </tr>\n",
       "    <tr>\n",
       "      <th>4</th>\n",
       "      <td>12350</td>\n",
       "      <td>597</td>\n",
       "    </tr>\n",
       "  </tbody>\n",
       "</table>\n",
       "</div>"
      ],
      "text/plain": [
       "   custid  max_quantity\n",
       "0   12346        664240\n",
       "1   12347         10942\n",
       "2   12348         16826\n",
       "3   12349           490\n",
       "4   12350           597"
      ]
     },
     "execution_count": 7,
     "metadata": {},
     "output_type": "execute_result"
    }
   ],
   "source": [
    "t2.head()"
   ]
  },
  {
   "cell_type": "code",
   "execution_count": 8,
   "metadata": {
    "collapsed": true
   },
   "outputs": [],
   "source": [
    "class_dist = pd.merge(t2,t1,how='left',left_on=['custid','max_quantity'],right_on=['custid','quantity'])"
   ]
  },
  {
   "cell_type": "code",
   "execution_count": 9,
   "metadata": {
    "collapsed": true
   },
   "outputs": [],
   "source": [
    "final_invent_class_label = class_dist[['custid','invent_class']]"
   ]
  },
  {
   "cell_type": "code",
   "execution_count": 10,
   "metadata": {},
   "outputs": [
    {
     "data": {
      "text/plain": [
       "4152"
      ]
     },
     "execution_count": 10,
     "metadata": {},
     "output_type": "execute_result"
    }
   ],
   "source": [
    "len(final_invent_class_label)"
   ]
  },
  {
   "cell_type": "code",
   "execution_count": 11,
   "metadata": {},
   "outputs": [
    {
     "name": "stderr",
     "output_type": "stream",
     "text": [
      "D:\\ArcGIS\\a\\bin\\Python\\envs\\arcgispro-py3\\lib\\site-packages\\ipykernel_launcher.py:3: SettingWithCopyWarning: \n",
      "A value is trying to be set on a copy of a slice from a DataFrame\n",
      "\n",
      "See the caveats in the documentation: http://pandas.pydata.org/pandas-docs/stable/indexing.html#indexing-view-versus-copy\n",
      "  This is separate from the ipykernel package so we can avoid doing imports until\n"
     ]
    }
   ],
   "source": [
    "## Sorting  dataframe\n",
    "\n",
    "final_invent_class_label.sort_values(by='custid',inplace=True)"
   ]
  },
  {
   "cell_type": "code",
   "execution_count": 12,
   "metadata": {},
   "outputs": [
    {
     "data": {
      "text/plain": [
       "green     3202\n",
       "yellow     665\n",
       "red        285\n",
       "Name: invent_class, dtype: int64"
      ]
     },
     "execution_count": 12,
     "metadata": {},
     "output_type": "execute_result"
    }
   ],
   "source": [
    "final_invent_class_label.invent_class.value_counts()"
   ]
  },
  {
   "cell_type": "markdown",
   "metadata": {},
   "source": [
    "#### Feature 2: Product portfolio: Out of total 5 commodities, which customer orders maximum type of  commodities"
   ]
  },
  {
   "cell_type": "code",
   "execution_count": null,
   "metadata": {
    "collapsed": true
   },
   "outputs": [],
   "source": []
  },
  {
   "cell_type": "code",
   "execution_count": 13,
   "metadata": {
    "collapsed": true
   },
   "outputs": [],
   "source": [
    "product_porfolio = final_data.groupby(['custid'],as_index=False).agg({'commodity': lambda x:  len(x.unique())})\n",
    "product_porfolio.rename(columns={'commodity':'product_portfolio'},inplace=True)"
   ]
  },
  {
   "cell_type": "code",
   "execution_count": 14,
   "metadata": {},
   "outputs": [
    {
     "data": {
      "text/plain": [
       "4146"
      ]
     },
     "execution_count": 14,
     "metadata": {},
     "output_type": "execute_result"
    }
   ],
   "source": [
    "len(product_porfolio)"
   ]
  },
  {
   "cell_type": "code",
   "execution_count": 15,
   "metadata": {
    "collapsed": true
   },
   "outputs": [],
   "source": [
    "## Sorting dataframe\n",
    "product_porfolio.sort_values(by='custid',inplace=True)"
   ]
  },
  {
   "cell_type": "code",
   "execution_count": null,
   "metadata": {
    "collapsed": true
   },
   "outputs": [],
   "source": []
  },
  {
   "cell_type": "markdown",
   "metadata": {},
   "source": [
    "#### Feature 3: History_length , Customer association with the company"
   ]
  },
  {
   "cell_type": "code",
   "execution_count": 16,
   "metadata": {
    "collapsed": true
   },
   "outputs": [],
   "source": [
    "final_data['invoicedate'] = pd.to_datetime(final_data['invoicedate'])"
   ]
  },
  {
   "cell_type": "code",
   "execution_count": 17,
   "metadata": {
    "collapsed": true
   },
   "outputs": [],
   "source": [
    "final_data['mix_date']=final_data['invoicedate']\n",
    "final_data['max_date']=final_data['invoicedate']"
   ]
  },
  {
   "cell_type": "code",
   "execution_count": 18,
   "metadata": {
    "collapsed": true
   },
   "outputs": [],
   "source": [
    "dates_data=final_data.groupby('custid',as_index=False).agg({'mix_date': lambda x: x.min(),'max_date': lambda x: x.max()})"
   ]
  },
  {
   "cell_type": "code",
   "execution_count": 19,
   "metadata": {
    "collapsed": true
   },
   "outputs": [],
   "source": [
    "dates_data['length_history'] = (dates_data['max_date']-dates_data['mix_date']).dt.days"
   ]
  },
  {
   "cell_type": "code",
   "execution_count": 20,
   "metadata": {},
   "outputs": [
    {
     "data": {
      "text/plain": [
       "4146"
      ]
     },
     "execution_count": 20,
     "metadata": {},
     "output_type": "execute_result"
    }
   ],
   "source": [
    "len(dates_data)"
   ]
  },
  {
   "cell_type": "code",
   "execution_count": 21,
   "metadata": {},
   "outputs": [
    {
     "data": {
      "text/plain": [
       "custid            3054\n",
       "mix_date          3054\n",
       "max_date          3054\n",
       "length_history    3054\n",
       "dtype: int64"
      ]
     },
     "execution_count": 21,
     "metadata": {},
     "output_type": "execute_result"
    }
   ],
   "source": [
    "dates_data[dates_data['length_history']>30].count()"
   ]
  },
  {
   "cell_type": "code",
   "execution_count": 22,
   "metadata": {
    "collapsed": true
   },
   "outputs": [],
   "source": [
    "quantiles_history = dates_data['length_history'].quantile(q=[0.25,0.50,0.75])"
   ]
  },
  {
   "cell_type": "code",
   "execution_count": 23,
   "metadata": {
    "collapsed": true
   },
   "outputs": [],
   "source": [
    "def hist_score(x):\n",
    "    if x <= quantiles_history[0.25]:\n",
    "        return 4\n",
    "    elif x <= quantiles_history[0.50]:\n",
    "        return 3\n",
    "    elif x <= quantiles_history[0.75]:\n",
    "        return 2\n",
    "    else:\n",
    "        return 1\n"
   ]
  },
  {
   "cell_type": "code",
   "execution_count": 24,
   "metadata": {
    "collapsed": true
   },
   "outputs": [],
   "source": [
    "dates_data['length_history'] = dates_data['length_history'].apply( lambda x: hist_score(x))"
   ]
  },
  {
   "cell_type": "code",
   "execution_count": 25,
   "metadata": {},
   "outputs": [
    {
     "data": {
      "text/plain": [
       "4146"
      ]
     },
     "execution_count": 25,
     "metadata": {},
     "output_type": "execute_result"
    }
   ],
   "source": [
    "len(dates_data)"
   ]
  },
  {
   "cell_type": "code",
   "execution_count": 26,
   "metadata": {
    "collapsed": true
   },
   "outputs": [],
   "source": [
    "## Sorting dataframe\n",
    "dates_data.sort_values(by='custid',inplace=True)"
   ]
  },
  {
   "cell_type": "code",
   "execution_count": null,
   "metadata": {
    "collapsed": true
   },
   "outputs": [],
   "source": []
  },
  {
   "cell_type": "markdown",
   "metadata": {},
   "source": [
    "##### Feature 4: R F M"
   ]
  },
  {
   "cell_type": "code",
   "execution_count": 27,
   "metadata": {
    "collapsed": true
   },
   "outputs": [],
   "source": [
    "rfm_date = final_data.groupby(['custid'],as_index=False).agg({'R': 'mean','F': 'mean','M': 'mean'})"
   ]
  },
  {
   "cell_type": "code",
   "execution_count": 28,
   "metadata": {},
   "outputs": [
    {
     "data": {
      "text/plain": [
       "4146"
      ]
     },
     "execution_count": 28,
     "metadata": {},
     "output_type": "execute_result"
    }
   ],
   "source": [
    "len(rfm_date)"
   ]
  },
  {
   "cell_type": "code",
   "execution_count": 29,
   "metadata": {
    "collapsed": true
   },
   "outputs": [],
   "source": [
    "## Sorting dataframe\n",
    "rfm_date.sort_values(by='custid',inplace=True)"
   ]
  },
  {
   "cell_type": "code",
   "execution_count": null,
   "metadata": {
    "collapsed": true
   },
   "outputs": [],
   "source": []
  },
  {
   "cell_type": "code",
   "execution_count": null,
   "metadata": {
    "collapsed": true
   },
   "outputs": [],
   "source": []
  },
  {
   "cell_type": "markdown",
   "metadata": {
    "collapsed": true
   },
   "source": [
    "## Merging all feature together "
   ]
  },
  {
   "cell_type": "code",
   "execution_count": 30,
   "metadata": {
    "collapsed": true
   },
   "outputs": [],
   "source": [
    "final1_2 = pd.merge(dates_data,rfm_date,on='custid',how='left')"
   ]
  },
  {
   "cell_type": "code",
   "execution_count": 31,
   "metadata": {},
   "outputs": [
    {
     "data": {
      "text/html": [
       "<div>\n",
       "<style>\n",
       "    .dataframe thead tr:only-child th {\n",
       "        text-align: right;\n",
       "    }\n",
       "\n",
       "    .dataframe thead th {\n",
       "        text-align: left;\n",
       "    }\n",
       "\n",
       "    .dataframe tbody tr th {\n",
       "        vertical-align: top;\n",
       "    }\n",
       "</style>\n",
       "<table border=\"1\" class=\"dataframe\">\n",
       "  <thead>\n",
       "    <tr style=\"text-align: right;\">\n",
       "      <th></th>\n",
       "      <th>custid</th>\n",
       "      <th>mix_date</th>\n",
       "      <th>max_date</th>\n",
       "      <th>length_history</th>\n",
       "      <th>R</th>\n",
       "      <th>F</th>\n",
       "      <th>M</th>\n",
       "    </tr>\n",
       "  </thead>\n",
       "  <tbody>\n",
       "    <tr>\n",
       "      <th>0</th>\n",
       "      <td>12346</td>\n",
       "      <td>2017-01-18</td>\n",
       "      <td>2018-05-09</td>\n",
       "      <td>3</td>\n",
       "      <td>3</td>\n",
       "      <td>4</td>\n",
       "      <td>1</td>\n",
       "    </tr>\n",
       "    <tr>\n",
       "      <th>1</th>\n",
       "      <td>12347</td>\n",
       "      <td>2016-12-07</td>\n",
       "      <td>2018-12-06</td>\n",
       "      <td>1</td>\n",
       "      <td>1</td>\n",
       "      <td>1</td>\n",
       "      <td>1</td>\n",
       "    </tr>\n",
       "    <tr>\n",
       "      <th>2</th>\n",
       "      <td>12348</td>\n",
       "      <td>2016-12-16</td>\n",
       "      <td>2018-12-15</td>\n",
       "      <td>1</td>\n",
       "      <td>1</td>\n",
       "      <td>1</td>\n",
       "      <td>1</td>\n",
       "    </tr>\n",
       "    <tr>\n",
       "      <th>3</th>\n",
       "      <td>12349</td>\n",
       "      <td>2017-11-21</td>\n",
       "      <td>2017-11-21</td>\n",
       "      <td>4</td>\n",
       "      <td>3</td>\n",
       "      <td>4</td>\n",
       "      <td>3</td>\n",
       "    </tr>\n",
       "    <tr>\n",
       "      <th>4</th>\n",
       "      <td>12350</td>\n",
       "      <td>2017-02-02</td>\n",
       "      <td>2018-08-01</td>\n",
       "      <td>2</td>\n",
       "      <td>3</td>\n",
       "      <td>4</td>\n",
       "      <td>3</td>\n",
       "    </tr>\n",
       "  </tbody>\n",
       "</table>\n",
       "</div>"
      ],
      "text/plain": [
       "   custid   mix_date   max_date  length_history  R  F  M\n",
       "0   12346 2017-01-18 2018-05-09               3  3  4  1\n",
       "1   12347 2016-12-07 2018-12-06               1  1  1  1\n",
       "2   12348 2016-12-16 2018-12-15               1  1  1  1\n",
       "3   12349 2017-11-21 2017-11-21               4  3  4  3\n",
       "4   12350 2017-02-02 2018-08-01               2  3  4  3"
      ]
     },
     "execution_count": 31,
     "metadata": {},
     "output_type": "execute_result"
    }
   ],
   "source": [
    "final1_2.head()"
   ]
  },
  {
   "cell_type": "code",
   "execution_count": 32,
   "metadata": {
    "collapsed": true
   },
   "outputs": [],
   "source": [
    "final1_2 = pd.merge(final1_2,product_porfolio,on='custid',how='left')"
   ]
  },
  {
   "cell_type": "code",
   "execution_count": 33,
   "metadata": {},
   "outputs": [
    {
     "data": {
      "text/html": [
       "<div>\n",
       "<style>\n",
       "    .dataframe thead tr:only-child th {\n",
       "        text-align: right;\n",
       "    }\n",
       "\n",
       "    .dataframe thead th {\n",
       "        text-align: left;\n",
       "    }\n",
       "\n",
       "    .dataframe tbody tr th {\n",
       "        vertical-align: top;\n",
       "    }\n",
       "</style>\n",
       "<table border=\"1\" class=\"dataframe\">\n",
       "  <thead>\n",
       "    <tr style=\"text-align: right;\">\n",
       "      <th></th>\n",
       "      <th>custid</th>\n",
       "      <th>mix_date</th>\n",
       "      <th>max_date</th>\n",
       "      <th>length_history</th>\n",
       "      <th>R</th>\n",
       "      <th>F</th>\n",
       "      <th>M</th>\n",
       "      <th>product_portfolio</th>\n",
       "    </tr>\n",
       "  </thead>\n",
       "  <tbody>\n",
       "    <tr>\n",
       "      <th>0</th>\n",
       "      <td>12346</td>\n",
       "      <td>2017-01-18</td>\n",
       "      <td>2018-05-09</td>\n",
       "      <td>3</td>\n",
       "      <td>3</td>\n",
       "      <td>4</td>\n",
       "      <td>1</td>\n",
       "      <td>1</td>\n",
       "    </tr>\n",
       "    <tr>\n",
       "      <th>1</th>\n",
       "      <td>12347</td>\n",
       "      <td>2016-12-07</td>\n",
       "      <td>2018-12-06</td>\n",
       "      <td>1</td>\n",
       "      <td>1</td>\n",
       "      <td>1</td>\n",
       "      <td>1</td>\n",
       "      <td>5</td>\n",
       "    </tr>\n",
       "    <tr>\n",
       "      <th>2</th>\n",
       "      <td>12348</td>\n",
       "      <td>2016-12-16</td>\n",
       "      <td>2018-12-15</td>\n",
       "      <td>1</td>\n",
       "      <td>1</td>\n",
       "      <td>1</td>\n",
       "      <td>1</td>\n",
       "      <td>5</td>\n",
       "    </tr>\n",
       "    <tr>\n",
       "      <th>3</th>\n",
       "      <td>12349</td>\n",
       "      <td>2017-11-21</td>\n",
       "      <td>2017-11-21</td>\n",
       "      <td>4</td>\n",
       "      <td>3</td>\n",
       "      <td>4</td>\n",
       "      <td>3</td>\n",
       "      <td>5</td>\n",
       "    </tr>\n",
       "    <tr>\n",
       "      <th>4</th>\n",
       "      <td>12350</td>\n",
       "      <td>2017-02-02</td>\n",
       "      <td>2018-08-01</td>\n",
       "      <td>2</td>\n",
       "      <td>3</td>\n",
       "      <td>4</td>\n",
       "      <td>3</td>\n",
       "      <td>5</td>\n",
       "    </tr>\n",
       "  </tbody>\n",
       "</table>\n",
       "</div>"
      ],
      "text/plain": [
       "   custid   mix_date   max_date  length_history  R  F  M  product_portfolio\n",
       "0   12346 2017-01-18 2018-05-09               3  3  4  1                  1\n",
       "1   12347 2016-12-07 2018-12-06               1  1  1  1                  5\n",
       "2   12348 2016-12-16 2018-12-15               1  1  1  1                  5\n",
       "3   12349 2017-11-21 2017-11-21               4  3  4  3                  5\n",
       "4   12350 2017-02-02 2018-08-01               2  3  4  3                  5"
      ]
     },
     "execution_count": 33,
     "metadata": {},
     "output_type": "execute_result"
    }
   ],
   "source": [
    "final1_2.head()"
   ]
  },
  {
   "cell_type": "code",
   "execution_count": 34,
   "metadata": {
    "collapsed": true
   },
   "outputs": [],
   "source": [
    "final1_2 = pd.merge(final1_2,final_invent_class_label,on='custid',how='left')"
   ]
  },
  {
   "cell_type": "code",
   "execution_count": 35,
   "metadata": {
    "collapsed": true
   },
   "outputs": [],
   "source": [
    "final = final1_2[['custid','length_history','R','F','M','product_portfolio','invent_class']]"
   ]
  },
  {
   "cell_type": "code",
   "execution_count": 36,
   "metadata": {},
   "outputs": [
    {
     "data": {
      "text/html": [
       "<div>\n",
       "<style>\n",
       "    .dataframe thead tr:only-child th {\n",
       "        text-align: right;\n",
       "    }\n",
       "\n",
       "    .dataframe thead th {\n",
       "        text-align: left;\n",
       "    }\n",
       "\n",
       "    .dataframe tbody tr th {\n",
       "        vertical-align: top;\n",
       "    }\n",
       "</style>\n",
       "<table border=\"1\" class=\"dataframe\">\n",
       "  <thead>\n",
       "    <tr style=\"text-align: right;\">\n",
       "      <th></th>\n",
       "      <th>custid</th>\n",
       "      <th>length_history</th>\n",
       "      <th>R</th>\n",
       "      <th>F</th>\n",
       "      <th>M</th>\n",
       "      <th>product_portfolio</th>\n",
       "      <th>invent_class</th>\n",
       "    </tr>\n",
       "  </thead>\n",
       "  <tbody>\n",
       "    <tr>\n",
       "      <th>0</th>\n",
       "      <td>12346</td>\n",
       "      <td>3</td>\n",
       "      <td>3</td>\n",
       "      <td>4</td>\n",
       "      <td>1</td>\n",
       "      <td>1</td>\n",
       "      <td>green</td>\n",
       "    </tr>\n",
       "    <tr>\n",
       "      <th>1</th>\n",
       "      <td>12347</td>\n",
       "      <td>1</td>\n",
       "      <td>1</td>\n",
       "      <td>1</td>\n",
       "      <td>1</td>\n",
       "      <td>5</td>\n",
       "      <td>green</td>\n",
       "    </tr>\n",
       "    <tr>\n",
       "      <th>2</th>\n",
       "      <td>12348</td>\n",
       "      <td>1</td>\n",
       "      <td>1</td>\n",
       "      <td>1</td>\n",
       "      <td>1</td>\n",
       "      <td>5</td>\n",
       "      <td>green</td>\n",
       "    </tr>\n",
       "    <tr>\n",
       "      <th>3</th>\n",
       "      <td>12349</td>\n",
       "      <td>4</td>\n",
       "      <td>3</td>\n",
       "      <td>4</td>\n",
       "      <td>3</td>\n",
       "      <td>5</td>\n",
       "      <td>green</td>\n",
       "    </tr>\n",
       "    <tr>\n",
       "      <th>4</th>\n",
       "      <td>12350</td>\n",
       "      <td>2</td>\n",
       "      <td>3</td>\n",
       "      <td>4</td>\n",
       "      <td>3</td>\n",
       "      <td>5</td>\n",
       "      <td>green</td>\n",
       "    </tr>\n",
       "  </tbody>\n",
       "</table>\n",
       "</div>"
      ],
      "text/plain": [
       "   custid  length_history  R  F  M  product_portfolio invent_class\n",
       "0   12346               3  3  4  1                  1        green\n",
       "1   12347               1  1  1  1                  5        green\n",
       "2   12348               1  1  1  1                  5        green\n",
       "3   12349               4  3  4  3                  5        green\n",
       "4   12350               2  3  4  3                  5        green"
      ]
     },
     "execution_count": 36,
     "metadata": {},
     "output_type": "execute_result"
    }
   ],
   "source": [
    "final.head()"
   ]
  },
  {
   "cell_type": "code",
   "execution_count": 37,
   "metadata": {
    "collapsed": true
   },
   "outputs": [],
   "source": [
    "final.to_csv('part_4_Customer_pre_final_NOV27.csv',index=False)"
   ]
  },
  {
   "cell_type": "code",
   "execution_count": null,
   "metadata": {
    "collapsed": true
   },
   "outputs": [],
   "source": []
  },
  {
   "cell_type": "markdown",
   "metadata": {},
   "source": [
    "###  weightage for attributes in individual features\n",
    "#### IF R = 1 , weightage for attribut R1 = 1\n",
    "#### similary if R=2 , weightage for attribute R2 = 0.8\n",
    "#### and so on \n",
    "\n",
    "#### 'R': {1: 1.0, 2: 0.8, 3: 0.5, 4: 0.1}\n",
    "    \n",
    "#### 'F': {1: 1.0, 2: 0.8, 3: 0.5,4: 0.1}\n",
    " \n",
    "#### 'M': {1: 1.0, 2: 0.8, 3: 0.5,4: 0.1}\n",
    "\n",
    "#### 'product_portfolio': {5: 1.0, 4: 0.9, 3: 0.8, 2: 0.7, 1 : 0.6}\n",
    "    \n",
    "#### 'invent_class': {'green':1.0, 'yellow': 0.8 ,'red': 0.5}\n",
    "    \n",
    "#### 'length_history':{1: 1.0, 2: 0.8, 3: 0.6, 4: 0.4}\n"
   ]
  },
  {
   "cell_type": "code",
   "execution_count": 38,
   "metadata": {
    "collapsed": true
   },
   "outputs": [],
   "source": [
    "final_labels = {'R': {1: 1.0, 2: 0.8, 3: 0.5, 4: 0.1},\n",
    " 'F': {1: 1.0, 2: 0.8, 3: 0.5,4: 0.1},\n",
    " 'M': {1: 1.0, 2: 0.8, 3: 0.5,4: 0.1},\n",
    " 'product_portfolio': {5: 1.0, 4: 0.9, 3: 0.8, 2: 0.7, 1 : 0.6},\n",
    " 'invent_class': {'green':1.0, 'yellow': 0.8 ,'red': 0.5},\n",
    " 'length_history':{1: 1.0, 2: 0.8, 3: 0.6, 4: 0.4}}\n",
    "\n",
    "\n"
   ]
  },
  {
   "cell_type": "code",
   "execution_count": 39,
   "metadata": {
    "collapsed": true
   },
   "outputs": [],
   "source": [
    "def final_scaling(x,key1):\n",
    "    weights={'R':0.15,'M':0.25,'F':0.25,'product_portfolio':0.15,'invent_class':0.10,'length_history':0.10}\n",
    "    current_weight = weights[key1]\n",
    "    return current_weight*(final_labels[key1][x])"
   ]
  },
  {
   "cell_type": "code",
   "execution_count": 40,
   "metadata": {
    "collapsed": true
   },
   "outputs": [],
   "source": [
    "final_weighted = final.copy()"
   ]
  },
  {
   "cell_type": "code",
   "execution_count": 41,
   "metadata": {
    "scrolled": true
   },
   "outputs": [
    {
     "data": {
      "text/plain": [
       "0"
      ]
     },
     "execution_count": 41,
     "metadata": {},
     "output_type": "execute_result"
    }
   ],
   "source": [
    "final_weighted.product_portfolio.isnull().sum()"
   ]
  },
  {
   "cell_type": "code",
   "execution_count": 42,
   "metadata": {
    "collapsed": true
   },
   "outputs": [],
   "source": [
    "final_weighted['F_weighted'] = final_weighted['F'].apply(final_scaling,args=('F'))\n",
    "final_weighted['M_weighted'] = (final_weighted['M'].apply(final_scaling,args=('M')))\n",
    "final_weighted['R_weighted'] = (final_weighted['R'].apply(final_scaling,args=('R')))\n",
    "# product_portfolio = (trial3['product_portfolio'].apply(final_scaling,args=['product_portfolio']))\n",
    "# invent_class = (trial3['invent_class'].apply(final_scaling,args=('invent_class')))\n",
    "# length_history = (trial3['length_history'].apply(final_scaling,args=('length_history')))\n",
    "\n",
    "# final['R_factored'] = final['R'].apply(lambda x: final_scaling('R',x))\n",
    "# final['M_factored'] = final['M'].apply(lambda x: final_scaling('M',x))\n",
    "# final['factored_product_portfolio'] = final['product_portfolio'].apply(lambda x: final_scaling('product_portfolio',x))\n",
    "# final['factored_invent_class'] = final['invent_class'].apply(lambda x: final_scaling('invent_class',x))\n",
    "# final['length_history'] = final['length_history'].apply(lambda x: final_scaling('length_history',x))"
   ]
  },
  {
   "cell_type": "code",
   "execution_count": 43,
   "metadata": {
    "collapsed": true
   },
   "outputs": [],
   "source": [
    "final_weighted['product_portfolio_weighted']= final_weighted['product_portfolio'].apply(lambda x: final_scaling(x,'product_portfolio'))\n",
    "final_weighted['invent_class_weighted']= final_weighted['invent_class'].apply(lambda x: final_scaling(x,'invent_class'))\n",
    "final_weighted['length_history_weighted'] = final_weighted['length_history'].apply(lambda x: final_scaling(x,'length_history'))\n"
   ]
  },
  {
   "cell_type": "code",
   "execution_count": 44,
   "metadata": {},
   "outputs": [
    {
     "data": {
      "text/html": [
       "<div>\n",
       "<style>\n",
       "    .dataframe thead tr:only-child th {\n",
       "        text-align: right;\n",
       "    }\n",
       "\n",
       "    .dataframe thead th {\n",
       "        text-align: left;\n",
       "    }\n",
       "\n",
       "    .dataframe tbody tr th {\n",
       "        vertical-align: top;\n",
       "    }\n",
       "</style>\n",
       "<table border=\"1\" class=\"dataframe\">\n",
       "  <thead>\n",
       "    <tr style=\"text-align: right;\">\n",
       "      <th></th>\n",
       "      <th>custid</th>\n",
       "      <th>length_history</th>\n",
       "      <th>R</th>\n",
       "      <th>F</th>\n",
       "      <th>M</th>\n",
       "      <th>product_portfolio</th>\n",
       "      <th>invent_class</th>\n",
       "      <th>F_weighted</th>\n",
       "      <th>M_weighted</th>\n",
       "      <th>R_weighted</th>\n",
       "      <th>product_portfolio_weighted</th>\n",
       "      <th>invent_class_weighted</th>\n",
       "      <th>length_history_weighted</th>\n",
       "    </tr>\n",
       "  </thead>\n",
       "  <tbody>\n",
       "    <tr>\n",
       "      <th>0</th>\n",
       "      <td>12346</td>\n",
       "      <td>3</td>\n",
       "      <td>3</td>\n",
       "      <td>4</td>\n",
       "      <td>1</td>\n",
       "      <td>1</td>\n",
       "      <td>green</td>\n",
       "      <td>0.025</td>\n",
       "      <td>0.250</td>\n",
       "      <td>0.075</td>\n",
       "      <td>0.09</td>\n",
       "      <td>0.1</td>\n",
       "      <td>0.06</td>\n",
       "    </tr>\n",
       "    <tr>\n",
       "      <th>1</th>\n",
       "      <td>12347</td>\n",
       "      <td>1</td>\n",
       "      <td>1</td>\n",
       "      <td>1</td>\n",
       "      <td>1</td>\n",
       "      <td>5</td>\n",
       "      <td>green</td>\n",
       "      <td>0.250</td>\n",
       "      <td>0.250</td>\n",
       "      <td>0.150</td>\n",
       "      <td>0.15</td>\n",
       "      <td>0.1</td>\n",
       "      <td>0.10</td>\n",
       "    </tr>\n",
       "    <tr>\n",
       "      <th>2</th>\n",
       "      <td>12348</td>\n",
       "      <td>1</td>\n",
       "      <td>1</td>\n",
       "      <td>1</td>\n",
       "      <td>1</td>\n",
       "      <td>5</td>\n",
       "      <td>green</td>\n",
       "      <td>0.250</td>\n",
       "      <td>0.250</td>\n",
       "      <td>0.150</td>\n",
       "      <td>0.15</td>\n",
       "      <td>0.1</td>\n",
       "      <td>0.10</td>\n",
       "    </tr>\n",
       "    <tr>\n",
       "      <th>3</th>\n",
       "      <td>12349</td>\n",
       "      <td>4</td>\n",
       "      <td>3</td>\n",
       "      <td>4</td>\n",
       "      <td>3</td>\n",
       "      <td>5</td>\n",
       "      <td>green</td>\n",
       "      <td>0.025</td>\n",
       "      <td>0.125</td>\n",
       "      <td>0.075</td>\n",
       "      <td>0.15</td>\n",
       "      <td>0.1</td>\n",
       "      <td>0.04</td>\n",
       "    </tr>\n",
       "    <tr>\n",
       "      <th>4</th>\n",
       "      <td>12350</td>\n",
       "      <td>2</td>\n",
       "      <td>3</td>\n",
       "      <td>4</td>\n",
       "      <td>3</td>\n",
       "      <td>5</td>\n",
       "      <td>green</td>\n",
       "      <td>0.025</td>\n",
       "      <td>0.125</td>\n",
       "      <td>0.075</td>\n",
       "      <td>0.15</td>\n",
       "      <td>0.1</td>\n",
       "      <td>0.08</td>\n",
       "    </tr>\n",
       "  </tbody>\n",
       "</table>\n",
       "</div>"
      ],
      "text/plain": [
       "   custid  length_history  R  F  M  product_portfolio invent_class  \\\n",
       "0   12346               3  3  4  1                  1        green   \n",
       "1   12347               1  1  1  1                  5        green   \n",
       "2   12348               1  1  1  1                  5        green   \n",
       "3   12349               4  3  4  3                  5        green   \n",
       "4   12350               2  3  4  3                  5        green   \n",
       "\n",
       "   F_weighted  M_weighted  R_weighted  product_portfolio_weighted  \\\n",
       "0       0.025       0.250       0.075                        0.09   \n",
       "1       0.250       0.250       0.150                        0.15   \n",
       "2       0.250       0.250       0.150                        0.15   \n",
       "3       0.025       0.125       0.075                        0.15   \n",
       "4       0.025       0.125       0.075                        0.15   \n",
       "\n",
       "   invent_class_weighted  length_history_weighted  \n",
       "0                    0.1                     0.06  \n",
       "1                    0.1                     0.10  \n",
       "2                    0.1                     0.10  \n",
       "3                    0.1                     0.04  \n",
       "4                    0.1                     0.08  "
      ]
     },
     "execution_count": 44,
     "metadata": {},
     "output_type": "execute_result"
    }
   ],
   "source": [
    "final_weighted.head()"
   ]
  },
  {
   "cell_type": "code",
   "execution_count": 45,
   "metadata": {
    "collapsed": true
   },
   "outputs": [],
   "source": [
    "final_weighted['final_value'] = final_weighted['product_portfolio_weighted']+final_weighted['invent_class_weighted']+final_weighted['length_history_weighted']+final_weighted['F_weighted']+final_weighted['M_weighted']+final_weighted['R_weighted']"
   ]
  },
  {
   "cell_type": "code",
   "execution_count": 46,
   "metadata": {},
   "outputs": [
    {
     "data": {
      "text/html": [
       "<div>\n",
       "<style>\n",
       "    .dataframe thead tr:only-child th {\n",
       "        text-align: right;\n",
       "    }\n",
       "\n",
       "    .dataframe thead th {\n",
       "        text-align: left;\n",
       "    }\n",
       "\n",
       "    .dataframe tbody tr th {\n",
       "        vertical-align: top;\n",
       "    }\n",
       "</style>\n",
       "<table border=\"1\" class=\"dataframe\">\n",
       "  <thead>\n",
       "    <tr style=\"text-align: right;\">\n",
       "      <th></th>\n",
       "      <th>custid</th>\n",
       "      <th>length_history</th>\n",
       "      <th>R</th>\n",
       "      <th>F</th>\n",
       "      <th>M</th>\n",
       "      <th>product_portfolio</th>\n",
       "      <th>invent_class</th>\n",
       "      <th>F_weighted</th>\n",
       "      <th>M_weighted</th>\n",
       "      <th>R_weighted</th>\n",
       "      <th>product_portfolio_weighted</th>\n",
       "      <th>invent_class_weighted</th>\n",
       "      <th>length_history_weighted</th>\n",
       "      <th>final_value</th>\n",
       "    </tr>\n",
       "  </thead>\n",
       "  <tbody>\n",
       "    <tr>\n",
       "      <th>0</th>\n",
       "      <td>12346</td>\n",
       "      <td>3</td>\n",
       "      <td>3</td>\n",
       "      <td>4</td>\n",
       "      <td>1</td>\n",
       "      <td>1</td>\n",
       "      <td>green</td>\n",
       "      <td>0.025</td>\n",
       "      <td>0.250</td>\n",
       "      <td>0.075</td>\n",
       "      <td>0.09</td>\n",
       "      <td>0.1</td>\n",
       "      <td>0.06</td>\n",
       "      <td>0.600</td>\n",
       "    </tr>\n",
       "    <tr>\n",
       "      <th>1</th>\n",
       "      <td>12347</td>\n",
       "      <td>1</td>\n",
       "      <td>1</td>\n",
       "      <td>1</td>\n",
       "      <td>1</td>\n",
       "      <td>5</td>\n",
       "      <td>green</td>\n",
       "      <td>0.250</td>\n",
       "      <td>0.250</td>\n",
       "      <td>0.150</td>\n",
       "      <td>0.15</td>\n",
       "      <td>0.1</td>\n",
       "      <td>0.10</td>\n",
       "      <td>1.000</td>\n",
       "    </tr>\n",
       "    <tr>\n",
       "      <th>2</th>\n",
       "      <td>12348</td>\n",
       "      <td>1</td>\n",
       "      <td>1</td>\n",
       "      <td>1</td>\n",
       "      <td>1</td>\n",
       "      <td>5</td>\n",
       "      <td>green</td>\n",
       "      <td>0.250</td>\n",
       "      <td>0.250</td>\n",
       "      <td>0.150</td>\n",
       "      <td>0.15</td>\n",
       "      <td>0.1</td>\n",
       "      <td>0.10</td>\n",
       "      <td>1.000</td>\n",
       "    </tr>\n",
       "    <tr>\n",
       "      <th>3</th>\n",
       "      <td>12349</td>\n",
       "      <td>4</td>\n",
       "      <td>3</td>\n",
       "      <td>4</td>\n",
       "      <td>3</td>\n",
       "      <td>5</td>\n",
       "      <td>green</td>\n",
       "      <td>0.025</td>\n",
       "      <td>0.125</td>\n",
       "      <td>0.075</td>\n",
       "      <td>0.15</td>\n",
       "      <td>0.1</td>\n",
       "      <td>0.04</td>\n",
       "      <td>0.515</td>\n",
       "    </tr>\n",
       "    <tr>\n",
       "      <th>4</th>\n",
       "      <td>12350</td>\n",
       "      <td>2</td>\n",
       "      <td>3</td>\n",
       "      <td>4</td>\n",
       "      <td>3</td>\n",
       "      <td>5</td>\n",
       "      <td>green</td>\n",
       "      <td>0.025</td>\n",
       "      <td>0.125</td>\n",
       "      <td>0.075</td>\n",
       "      <td>0.15</td>\n",
       "      <td>0.1</td>\n",
       "      <td>0.08</td>\n",
       "      <td>0.555</td>\n",
       "    </tr>\n",
       "  </tbody>\n",
       "</table>\n",
       "</div>"
      ],
      "text/plain": [
       "   custid  length_history  R  F  M  product_portfolio invent_class  \\\n",
       "0   12346               3  3  4  1                  1        green   \n",
       "1   12347               1  1  1  1                  5        green   \n",
       "2   12348               1  1  1  1                  5        green   \n",
       "3   12349               4  3  4  3                  5        green   \n",
       "4   12350               2  3  4  3                  5        green   \n",
       "\n",
       "   F_weighted  M_weighted  R_weighted  product_portfolio_weighted  \\\n",
       "0       0.025       0.250       0.075                        0.09   \n",
       "1       0.250       0.250       0.150                        0.15   \n",
       "2       0.250       0.250       0.150                        0.15   \n",
       "3       0.025       0.125       0.075                        0.15   \n",
       "4       0.025       0.125       0.075                        0.15   \n",
       "\n",
       "   invent_class_weighted  length_history_weighted  final_value  \n",
       "0                    0.1                     0.06        0.600  \n",
       "1                    0.1                     0.10        1.000  \n",
       "2                    0.1                     0.10        1.000  \n",
       "3                    0.1                     0.04        0.515  \n",
       "4                    0.1                     0.08        0.555  "
      ]
     },
     "execution_count": 46,
     "metadata": {},
     "output_type": "execute_result"
    }
   ],
   "source": [
    "final_weighted.head()"
   ]
  },
  {
   "cell_type": "markdown",
   "metadata": {},
   "source": [
    "#### Mapping Final value \n",
    "#### IF final value os <=0.5 = 0 or Bad performance\n",
    "#### and IF value >0.5  map it to 1 or Good performance"
   ]
  },
  {
   "cell_type": "code",
   "execution_count": 47,
   "metadata": {
    "collapsed": true
   },
   "outputs": [],
   "source": [
    "def performance_map(x):\n",
    "    if x<=0.6:\n",
    "        response = 0 #'Bad'\n",
    "        return response\n",
    "    else:\n",
    "        response = 1# 'Good'\n",
    "        return response"
   ]
  },
  {
   "cell_type": "code",
   "execution_count": 48,
   "metadata": {
    "collapsed": true
   },
   "outputs": [],
   "source": [
    "final_weighted['customer_type'] = final_weighted['final_value'].map(performance_map)"
   ]
  },
  {
   "cell_type": "markdown",
   "metadata": {},
   "source": [
    "#### Distribution of GOOD and Bad"
   ]
  },
  {
   "cell_type": "code",
   "execution_count": 49,
   "metadata": {},
   "outputs": [
    {
     "data": {
      "text/plain": [
       "1    2419\n",
       "0    1733\n",
       "Name: customer_type, dtype: int64"
      ]
     },
     "execution_count": 49,
     "metadata": {},
     "output_type": "execute_result"
    }
   ],
   "source": [
    "final_weighted.customer_type.value_counts()"
   ]
  },
  {
   "cell_type": "code",
   "execution_count": 50,
   "metadata": {},
   "outputs": [
    {
     "data": {
      "text/plain": [
       "17"
      ]
     },
     "execution_count": 50,
     "metadata": {},
     "output_type": "execute_result"
    }
   ],
   "source": [
    "len('product_portfolio')"
   ]
  },
  {
   "cell_type": "code",
   "execution_count": 51,
   "metadata": {},
   "outputs": [
    {
     "data": {
      "text/html": [
       "<div>\n",
       "<style>\n",
       "    .dataframe thead tr:only-child th {\n",
       "        text-align: right;\n",
       "    }\n",
       "\n",
       "    .dataframe thead th {\n",
       "        text-align: left;\n",
       "    }\n",
       "\n",
       "    .dataframe tbody tr th {\n",
       "        vertical-align: top;\n",
       "    }\n",
       "</style>\n",
       "<table border=\"1\" class=\"dataframe\">\n",
       "  <thead>\n",
       "    <tr style=\"text-align: right;\">\n",
       "      <th></th>\n",
       "      <th>custid</th>\n",
       "      <th>length_history</th>\n",
       "      <th>R</th>\n",
       "      <th>F</th>\n",
       "      <th>M</th>\n",
       "      <th>product_portfolio</th>\n",
       "      <th>invent_class</th>\n",
       "      <th>F_weighted</th>\n",
       "      <th>M_weighted</th>\n",
       "      <th>R_weighted</th>\n",
       "      <th>product_portfolio_weighted</th>\n",
       "      <th>invent_class_weighted</th>\n",
       "      <th>length_history_weighted</th>\n",
       "      <th>final_value</th>\n",
       "      <th>customer_type</th>\n",
       "    </tr>\n",
       "  </thead>\n",
       "  <tbody>\n",
       "    <tr>\n",
       "      <th>0</th>\n",
       "      <td>12346</td>\n",
       "      <td>3</td>\n",
       "      <td>3</td>\n",
       "      <td>4</td>\n",
       "      <td>1</td>\n",
       "      <td>1</td>\n",
       "      <td>green</td>\n",
       "      <td>0.025</td>\n",
       "      <td>0.250</td>\n",
       "      <td>0.075</td>\n",
       "      <td>0.09</td>\n",
       "      <td>0.1</td>\n",
       "      <td>0.06</td>\n",
       "      <td>0.600</td>\n",
       "      <td>0</td>\n",
       "    </tr>\n",
       "    <tr>\n",
       "      <th>1</th>\n",
       "      <td>12347</td>\n",
       "      <td>1</td>\n",
       "      <td>1</td>\n",
       "      <td>1</td>\n",
       "      <td>1</td>\n",
       "      <td>5</td>\n",
       "      <td>green</td>\n",
       "      <td>0.250</td>\n",
       "      <td>0.250</td>\n",
       "      <td>0.150</td>\n",
       "      <td>0.15</td>\n",
       "      <td>0.1</td>\n",
       "      <td>0.10</td>\n",
       "      <td>1.000</td>\n",
       "      <td>1</td>\n",
       "    </tr>\n",
       "    <tr>\n",
       "      <th>2</th>\n",
       "      <td>12348</td>\n",
       "      <td>1</td>\n",
       "      <td>1</td>\n",
       "      <td>1</td>\n",
       "      <td>1</td>\n",
       "      <td>5</td>\n",
       "      <td>green</td>\n",
       "      <td>0.250</td>\n",
       "      <td>0.250</td>\n",
       "      <td>0.150</td>\n",
       "      <td>0.15</td>\n",
       "      <td>0.1</td>\n",
       "      <td>0.10</td>\n",
       "      <td>1.000</td>\n",
       "      <td>1</td>\n",
       "    </tr>\n",
       "    <tr>\n",
       "      <th>3</th>\n",
       "      <td>12349</td>\n",
       "      <td>4</td>\n",
       "      <td>3</td>\n",
       "      <td>4</td>\n",
       "      <td>3</td>\n",
       "      <td>5</td>\n",
       "      <td>green</td>\n",
       "      <td>0.025</td>\n",
       "      <td>0.125</td>\n",
       "      <td>0.075</td>\n",
       "      <td>0.15</td>\n",
       "      <td>0.1</td>\n",
       "      <td>0.04</td>\n",
       "      <td>0.515</td>\n",
       "      <td>0</td>\n",
       "    </tr>\n",
       "    <tr>\n",
       "      <th>4</th>\n",
       "      <td>12350</td>\n",
       "      <td>2</td>\n",
       "      <td>3</td>\n",
       "      <td>4</td>\n",
       "      <td>3</td>\n",
       "      <td>5</td>\n",
       "      <td>green</td>\n",
       "      <td>0.025</td>\n",
       "      <td>0.125</td>\n",
       "      <td>0.075</td>\n",
       "      <td>0.15</td>\n",
       "      <td>0.1</td>\n",
       "      <td>0.08</td>\n",
       "      <td>0.555</td>\n",
       "      <td>0</td>\n",
       "    </tr>\n",
       "  </tbody>\n",
       "</table>\n",
       "</div>"
      ],
      "text/plain": [
       "   custid  length_history  R  F  M  product_portfolio invent_class  \\\n",
       "0   12346               3  3  4  1                  1        green   \n",
       "1   12347               1  1  1  1                  5        green   \n",
       "2   12348               1  1  1  1                  5        green   \n",
       "3   12349               4  3  4  3                  5        green   \n",
       "4   12350               2  3  4  3                  5        green   \n",
       "\n",
       "   F_weighted  M_weighted  R_weighted  product_portfolio_weighted  \\\n",
       "0       0.025       0.250       0.075                        0.09   \n",
       "1       0.250       0.250       0.150                        0.15   \n",
       "2       0.250       0.250       0.150                        0.15   \n",
       "3       0.025       0.125       0.075                        0.15   \n",
       "4       0.025       0.125       0.075                        0.15   \n",
       "\n",
       "   invent_class_weighted  length_history_weighted  final_value  customer_type  \n",
       "0                    0.1                     0.06        0.600              0  \n",
       "1                    0.1                     0.10        1.000              1  \n",
       "2                    0.1                     0.10        1.000              1  \n",
       "3                    0.1                     0.04        0.515              0  \n",
       "4                    0.1                     0.08        0.555              0  "
      ]
     },
     "execution_count": 51,
     "metadata": {},
     "output_type": "execute_result"
    }
   ],
   "source": [
    "final_weighted.head()"
   ]
  },
  {
   "cell_type": "code",
   "execution_count": 52,
   "metadata": {
    "collapsed": true
   },
   "outputs": [],
   "source": [
    "## Exporting File with \n",
    "\n",
    "final_weighted.to_csv('part_4_Customer_GOOD_BAD_parameter_nov_final.csv',index=False)"
   ]
  },
  {
   "cell_type": "code",
   "execution_count": null,
   "metadata": {
    "collapsed": true
   },
   "outputs": [],
   "source": []
  },
  {
   "cell_type": "code",
   "execution_count": null,
   "metadata": {
    "collapsed": true
   },
   "outputs": [],
   "source": []
  }
 ],
 "metadata": {
  "kernelspec": {
   "display_name": "Python 3",
   "language": "python",
   "name": "python3"
  },
  "language_info": {
   "codemirror_mode": {
    "name": "ipython",
    "version": 3
   },
   "file_extension": ".py",
   "mimetype": "text/x-python",
   "name": "python",
   "nbconvert_exporter": "python",
   "pygments_lexer": "ipython3",
   "version": "3.8.3"
  }
 },
 "nbformat": 4,
 "nbformat_minor": 2
}
